{
 "cells": [
  {
   "cell_type": "markdown",
   "id": "b3c47d72-ed5f-474e-b50a-21ee434b327b",
   "metadata": {},
   "source": [
    "# Post Sim Run\n",
    "Code to run after Repast sim"
   ]
  },
  {
   "cell_type": "code",
   "execution_count": 1,
   "id": "10eac835-dee9-488b-b135-808848a1cc0d",
   "metadata": {},
   "outputs": [],
   "source": [
    "import pandas as pd\n",
    "import geopandas as gpd\n",
    "import yaml\n",
    "\n",
    "import plotly.graph_objects as go"
   ]
  },
  {
   "cell_type": "code",
   "execution_count": 2,
   "id": "5ecf96cc-8578-43ba-b1de-04986d55cecf",
   "metadata": {},
   "outputs": [],
   "source": [
    "config_file = '../config/local_deer_config.yaml'"
   ]
  },
  {
   "cell_type": "code",
   "execution_count": 3,
   "id": "bcbc9caa-b501-47b7-931f-d5c6743ef276",
   "metadata": {},
   "outputs": [],
   "source": [
    "with open(config_file) as stream:\n",
    "    try:\n",
    "        params = yaml.safe_load(stream)\n",
    "    except yaml.YAMLError as exc:\n",
    "        print(exc)"
   ]
  },
  {
   "cell_type": "code",
   "execution_count": 4,
   "id": "d3574cb7-eb39-4ae6-986b-086e995a1a46",
   "metadata": {},
   "outputs": [],
   "source": [
    "def csv_to_gpkg(params):\n",
    "    '''\n",
    "    Convert the repast csv logfile into a geopackage with \n",
    "    the x,y coords as point geom, and maybe the centroid geom too...\n",
    "    '''\n",
    "    in_csv = params['logging']['agent_log_file']\n",
    "    agent_gpkg = params['logging']['gpkg_log_file']\n",
    "    centroid_gpkg = params['logging']['centroid_log_file']\n",
    "\n",
    "    # Load the CSV file\n",
    "    df = pd.read_csv(in_csv)\n",
    "\n",
    "    # Convert to GeoDataFrame\n",
    "    gdf = gpd.GeoDataFrame(\n",
    "        df, \n",
    "        geometry=gpd.points_from_xy(df['x'], df['y'], crs='EPSG:5070')\n",
    "    )\n",
    "\n",
    "    # Save to a GeoPackage file\n",
    "    gdf.to_file(agent_gpkg, layer='agent_location', driver='GPKG')\n",
    "\n",
    "    \n",
    "    # Convert to GeoDataFrame\n",
    "    gdf = gpd.GeoDataFrame(\n",
    "        df, \n",
    "        geometry=gpd.points_from_xy(df['centroid_x'], df['centroid_y'], crs='EPSG:5070')\n",
    "    )\n",
    "\n",
    "    # Save to a GeoPackage file\n",
    "    gdf.to_file(centroid_gpkg, layer='centroid_location', driver='GPKG')\n",
    "    \n",
    "    return"
   ]
  },
  {
   "cell_type": "code",
   "execution_count": 5,
   "id": "71d1bc3d-874a-43b1-8ef9-a03d33dc5c54",
   "metadata": {},
   "outputs": [],
   "source": [
    "# csv_to_gpkg(params)"
   ]
  },
  {
   "cell_type": "code",
   "execution_count": 12,
   "id": "b0e2fb5d-2470-4f13-bb3c-04163d298d82",
   "metadata": {},
   "outputs": [],
   "source": [
    "params['logging']['agent_log_file'] = '../output/agent_log.csv'\n",
    "params['logging']['gpkg_log_file'] = '../output/agents.gpkg'\n",
    "params['logging']['centroid_log_file'] = '../output/centroids.gpkg'\n",
    "\n",
    "in_csv = params['logging']['agent_log_file']\n",
    "agent_gpkg = params['logging']['gpkg_log_file']\n",
    "centroid_gpkg = params['logging']['centroid_log_file']\n",
    "\n",
    "csv_to_gpkg(params)\n",
    "# Load the CSV file\n"
   ]
  },
  {
   "cell_type": "code",
   "execution_count": 7,
   "id": "52a5f7ca-80aa-4b01-9986-ce62d9223c97",
   "metadata": {},
   "outputs": [],
   "source": [
    "df = pd.read_csv(in_csv)\n",
    "\n",
    "df.x = df.x - df.x.values[0]\n",
    "df.y = df.y - df.y.values[0]\n",
    "df.centroid_x = df.centroid_x - df.centroid_x.values[0]\n",
    "df.centroid_y = df.centroid_y - df.centroid_y.values[0]"
   ]
  },
  {
   "cell_type": "code",
   "execution_count": 8,
   "id": "be86afa2-831f-4a31-82d3-bef5374f12a0",
   "metadata": {},
   "outputs": [],
   "source": [
    "pd.set_option('display.max_rows', None)\n",
    "pd.set_option('display.max_columns', None)"
   ]
  },
  {
   "cell_type": "code",
   "execution_count": 9,
   "id": "f98de218-4684-46db-b988-a8cf44930724",
   "metadata": {},
   "outputs": [],
   "source": [
    "csv_to_gpkg(params)"
   ]
  },
  {
   "cell_type": "code",
   "execution_count": 10,
   "id": "bf50344a-16e9-4fe6-a338-dba3fdf88e23",
   "metadata": {},
   "outputs": [],
   "source": [
    "\n",
    "# df2 = df[df.uuid == df.sample(1).uuid.values[0]]\n",
    "# fig = go.Figure([go.Scatter(x=df2['timestamp'], y=df2['x'], name=\"X Location\"),\n",
    "#                 go.Scatter(x=df2['timestamp'], y=df2['y'], name=\"Y Location\")])\n",
    "# fig.show()\n"
   ]
  },
  {
   "cell_type": "code",
   "execution_count": 11,
   "id": "0c897a9d-c7af-47f7-9919-ba6b6731fe27",
   "metadata": {},
   "outputs": [],
   "source": [
    "# df.to_parquet('../output/agent_log.parq')"
   ]
  },
  {
   "cell_type": "code",
   "execution_count": null,
   "id": "494fd307-9bc8-4216-9f61-44721fd37f0b",
   "metadata": {},
   "outputs": [],
   "source": []
  }
 ],
 "metadata": {
  "kernelspec": {
   "display_name": "Python 3 (ipykernel)",
   "language": "python",
   "name": "python3"
  },
  "language_info": {
   "codemirror_mode": {
    "name": "ipython",
    "version": 3
   },
   "file_extension": ".py",
   "mimetype": "text/x-python",
   "name": "python",
   "nbconvert_exporter": "python",
   "pygments_lexer": "ipython3",
   "version": "3.11.9"
  }
 },
 "nbformat": 4,
 "nbformat_minor": 5
}
