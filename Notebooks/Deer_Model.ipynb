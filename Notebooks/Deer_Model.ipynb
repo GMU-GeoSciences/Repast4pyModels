{
 "cells": [
  {
   "cell_type": "markdown",
   "id": "b3c47d72-ed5f-474e-b50a-21ee434b327b",
   "metadata": {},
   "source": [
    "# Deer Agent Creation\n",
    "The goal of this notebook is to create an input file for the agent based simulation. \n",
    "\n",
    "It will take in some input probabilities (portion of population that is male, adult etc) and create a table that can be used for agent creation. "
   ]
  },
  {
   "cell_type": "code",
   "execution_count": 2,
   "id": "10eac835-dee9-488b-b135-808848a1cc0d",
   "metadata": {},
   "outputs": [],
   "source": [
    "import numpy as np\n",
    "import pandas as pd\n",
    "import repast4py\n",
    "import logging as pylog # Repast logger is called as \"logging\"\n",
    "\n",
    "from typing import Dict, Tuple\n",
    "from mpi4py import MPI\n",
    "from dataclasses import dataclass, field, fields, asdict\n",
    "\n",
    "import collections\n",
    "import csv\n",
    "import os\n",
    "\n",
    "import random as rndm\n",
    "import torch\n",
    "import yaml\n",
    "\n",
    "from repast4py import core, random, space, schedule, logging, parameters\n",
    "from repast4py import context \n",
    "from repast4py.space import ContinuousPoint as cpt\n",
    "from repast4py.space import BorderType, OccupancyType\n",
    "from repast4py.space import DiscretePoint as dpt\n",
    "from repast4py.value_layer import SharedValueLayer\n",
    "from datetime import datetime, timedelta\n",
    "\n",
    "# # Local Files\n",
    "# from deer_agent.deer_agent import Deer, Deer_Config\n",
    "# from landscape import fetch_img "
   ]
  },
  {
   "cell_type": "code",
   "execution_count": 5,
   "id": "5ecf96cc-8578-43ba-b1de-04986d55cecf",
   "metadata": {},
   "outputs": [],
   "source": [
    "config_file = '../config/local_deer_config.yaml'"
   ]
  },
  {
   "cell_type": "markdown",
   "id": "ddd45890-2a5c-4ca9-8cc5-c062b9404e1d",
   "metadata": {},
   "source": [
    "## Create Params\n",
    "Based off of [this](https://www.sciencedirect.com/science/article/pii/S0304380022002162) and the associated appendix.\n",
    "\n",
    "This is going to create a number of deer agents with their starting params. The repast simulation will take a subset of these deer. \n",
    "\n",
    "Static params created for each agent:\n",
    "\n",
    "    is_infected: bool = False\n",
    "    is_contagious: bool = False\n",
    "    has_recovered: bool = False\n",
    "    disease_timer: int = 0\n",
    "    random_seed: int = 0\n",
    "    group_id: int = 0\n",
    "    birth_Date: datetime = datetime.datetime(2020, 1, 1)\n",
    "    is_male: bool = False\n",
    "    is_fawn: bool = False\n",
    "    gestation_days: int = 0\n",
    "    has_homerange: bool = False # Assume it's false and check that initial pos is valid for centroid\n",
    "    current_x: float = 0.0\n",
    "    current_y: float = 0.0\n",
    "    behaviour_state: Behaviour_State = field(default = Behaviour_State.NORMAL) \n",
    "    \n",
    "    AND\n",
    "\n",
    "    last_point = Point(self.current_x,self.current_y)\n",
    "    current_point = Point(self.current_x,self.current_y)\n",
    "    centroid = Point(self.current_x,self.current_y)\n",
    "    self.pos = Position_Vector(last_point, current_point, centroid) \n",
    "\n",
    "Some other params that might get calculated:\n",
    "* $\\rho_t$: Center angel of distribution [radians]\n",
    "* $\\mu_t$: Mean Cosine of deviations/ shape parameter [radians?]. \n",
    "* $\\beta_t$: Scale parameter\n",
    "* $\\alpha_t$: Shape parameter\n",
    "* FOCUS params:\n",
    "  * $\\theta_{Ct}$\n",
    "  * $\\rho_\\infty$\n",
    "  * $\\rho_0$\n",
    "  * $\\gamma_\\rho$"
   ]
  },
  {
   "cell_type": "code",
   "execution_count": 64,
   "id": "633ca625-ffc2-4ba8-8717-b892e548c460",
   "metadata": {},
   "outputs": [],
   "source": [
    "dirname = os.getcwd()\n",
    "filename = os.path.join(dirname, config_file)\n",
    "\n",
    "with open(filename, 'r') as stream:\n",
    "    params = yaml.safe_load(stream)\n"
   ]
  },
  {
   "cell_type": "markdown",
   "id": "db2704b3-f70e-4527-8237-9e1eff28d9b3",
   "metadata": {},
   "source": [
    "Create dataframe using vectorizable function:\n",
    "https://stackoverflow.com/questions/61823039/how-to-create-pandas-dataframe-and-fill-it-from-function"
   ]
  },
  {
   "cell_type": "markdown",
   "id": "ee9e4388-1579-4e4b-8978-535903d7ea9e",
   "metadata": {},
   "source": [
    "EPSG:5070:\n",
    "\n",
    "x_min = -8587456\n",
    "x_max = -8555705\n",
    "y_min = 4729698\n",
    "y_max = 4751385\n",
    "\n",
    "\n",
    "![IMAGE](https://www.mrlc.gov/geoserver/ows?service=WCS&version=2.0.1&&REQUEST=GetCoverage&coverageId=mrlc_download:NLCD_2019_Land_Cover_L48&SUBSETTINGCRS=EPSG:5070&subset=X(1603849,1637294)&subset=Y(1950179,1973346)&OUTPUTCRS=EPSG:5070&FORMAT=image/png)"
   ]
  },
  {
   "cell_type": "code",
   "execution_count": 137,
   "id": "ba04e92b-3794-4f55-8767-c973a8945597",
   "metadata": {},
   "outputs": [
    {
     "data": {
      "text/plain": [
       "'/home/jovyan/work/GMU/Repast4pyModels/Notebooks'"
      ]
     },
     "execution_count": 137,
     "metadata": {},
     "output_type": "execute_result"
    }
   ],
   "source": [
    "os.getcwd()"
   ]
  },
  {
   "cell_type": "code",
   "execution_count": 31,
   "id": "5987d594-4fe8-4746-a505-dd8f119c7f22",
   "metadata": {},
   "outputs": [],
   "source": [
    "from owslib.wcs import WebCoverageService\n",
    "import rasterio\n",
    "from rasterio.plot import reshape_as_raster, reshape_as_image\n",
    "\n",
    "@dataclass\n",
    "class WCS_Info:\n",
    "    '''\n",
    "    Simple class to hold info required to get image using Web Coverage Service \n",
    "    '''\n",
    "    layer_id: str\n",
    "    wcs_url: str \n",
    "    epsg: str\n",
    "    description: str\n",
    "    path: str\n",
    "    bounds: [] #xmin, ymin, xmax, ymax\n",
    "    file_format: str = 'GeoTIFF'\n",
    "    wcs_version: str = '2.0.1'\n",
    "    x_label: str = 'X'\n",
    "    y_label: str = 'Y'"
   ]
  },
  {
   "cell_type": "code",
   "execution_count": 12,
   "id": "d88a2cb8-34df-4745-bbb8-073182b25cbb",
   "metadata": {},
   "outputs": [],
   "source": [
    "############################################################################\n",
    "## Some common rasters to use\n",
    "############################################################################\n",
    "land_cover = WCS_Info(layer_id='mrlc_download__NLCD_2019_Land_Cover_L48',\n",
    "                     wcs_url = 'https://www.mrlc.gov/geoserver/ows', \n",
    "                     epsg = 'EPSG:5070',\n",
    "                     path = '../input/images/2019_LandCover.tiff',\n",
    "                     bounds = [1603849, 1637294, 1950179, 1973346], \n",
    "                     description = '2019 NLCD Landcover classification for Howard County'\n",
    "                     )\n",
    "\n",
    "imp_surf = WCS_Info(layer_id='mrlc_download__NLCD_2019_Impervious_L48',\n",
    "                     wcs_url = 'https://www.mrlc.gov/geoserver/ows', \n",
    "                     epsg = 'EPSG:5070',\n",
    "                     path = '../input/images/2019_ImpervSurf.tiff',\n",
    "                     bounds = [1603849, 1637294, 1950179, 1973346], \n",
    "                     description = '2019 NLCD Impervious Surfaces for Howard County'\n",
    "                     ) \n",
    "\n",
    "# https://www.mrlc.gov/data/nlcd-2019-usfs-tree-canopy-cover-conus\n",
    "# https://www.mrlc.gov/geoserver/ows?service=WCS&version=2.0.1&\n",
    "# &REQUEST=GetCoverage&coverageId=mrlc_download:nlcd_tcc_conus_2019_v2021-4\n",
    "# &SUBSETTINGCRS=EPSG:4326&subset=Long(-77.187113,-76.696774)&subset=Lat(39.103142,39.369323)&FORMAT=image/tiff\n",
    "\n",
    "canopy = WCS_Info(layer_id='mrlc_download:nlcd_tcc_conus_2019_v2021-4',\n",
    "                     wcs_url = 'https://www.mrlc.gov/geoserver/ows', \n",
    "                     epsg = 'EPSG:5070',\n",
    "                     path = '../input/images/2019_CONUS_Canopy.tiff',\n",
    "                     bounds = [1603849, 1637294, 1950179, 1973346], \n",
    "                     description = '2019 NLCD Canopy Estimate for Howard County'\n",
    "                     )\n",
    "############################################################################\n",
    "\n",
    "def fetch_img(WCS_Info):\n",
    "    '''\n",
    "    Download WCS image, save it to a file, and return a numpy array of the raster.\n",
    "    Also return the XY pixel resolution in the projection units.\n",
    "    '''\n",
    "    wcs_service = WebCoverageService(WCS_Info.wcs_url,\n",
    "                            version=WCS_Info.wcs_version)\n",
    "    img = wcs_service.getCoverage(identifier = [WCS_Info.layer_id],\n",
    "                                  srs = WCS_Info.epsg,\n",
    "                                  subsets = [(WCS_Info.x_label, WCS_Info.bounds[0], WCS_Info.bounds[1]),\n",
    "                                             (WCS_Info.y_label, WCS_Info.bounds[2], WCS_Info.bounds[3])],\n",
    "                                  format = WCS_Info.file_format)\n",
    "    \n",
    "    out = open(WCS_Info.path, 'wb')\n",
    "    out.write(img.read())\n",
    "    out.close()\n",
    "\n",
    "    with rasterio.open(WCS_Info.path, 'r') as ds:\n",
    "        xy_resolution = ds.res\n",
    "        arr = reshape_as_image(ds.read())  # read all raster values and return them as (x,y,z) \n",
    "\n",
    "    return arr, xy_resolution"
   ]
  },
  {
   "cell_type": "code",
   "execution_count": 14,
   "id": "5da83d5d-4fa8-4dba-9d4b-2a691500741f",
   "metadata": {},
   "outputs": [],
   "source": [
    "canopy_array, xy_resolution = fetch_img(canopy)\n",
    "canopy_array, xy_resolution = fetch_img(land_cover)\n",
    "canopy_array, xy_resolution = fetch_img(imp_surf)"
   ]
  },
  {
   "cell_type": "code",
   "execution_count": 96,
   "id": "7fff91f2-6fc3-4db1-8d32-94d71dd5a1f9",
   "metadata": {},
   "outputs": [
    {
     "name": "stdout",
     "output_type": "stream",
     "text": [
      "Requirement already satisfied: shapely in /opt/conda/lib/python3.11/site-packages (2.0.6)\n",
      "Requirement already satisfied: numpy<3,>=1.14 in /opt/conda/lib/python3.11/site-packages (from shapely) (1.26.0)\n"
     ]
    }
   ],
   "source": [
    "! pip install shapely"
   ]
  },
  {
   "cell_type": "code",
   "execution_count": 94,
   "id": "60cee2b2-eea9-42e9-a662-eb21fc1efd4b",
   "metadata": {},
   "outputs": [],
   "source": [
    "import geojson \n",
    "import shapely\n",
    "import geopandas as gpd\n",
    "from rasterio.mask import mask"
   ]
  },
  {
   "cell_type": "code",
   "execution_count": 95,
   "id": "a59f1350-9cc3-4e6d-b804-fa638ecb0d74",
   "metadata": {},
   "outputs": [
    {
     "data": {
      "text/plain": [
       "'{\"type\":\"Polygon\",\"coordinates\":[[[1630000.0,1960000.0],[1630000.0,1970000.0],[1615000.0,1970000.0],[1615000.0,1960000.0],[1630000.0,1960000.0]]]}'"
      ]
     },
     "execution_count": 95,
     "metadata": {},
     "output_type": "execute_result"
    }
   ],
   "source": []
  },
  {
   "cell_type": "code",
   "execution_count": 116,
   "id": "fc239b2b-73ac-4d5b-a5e6-ffea3b26506d",
   "metadata": {},
   "outputs": [],
   "source": [
    "bbox = shapely.geometry.box(int(params['geo']['x_min']), \n",
    "           int(params['geo']['y_min']), \n",
    "           int(params['geo']['x_max']),\n",
    "           int(params['geo']['y_max']))\n",
    "geojson_dict =  dict(geojson.loads(shapely.to_geojson(bbox)))"
   ]
  },
  {
   "cell_type": "code",
   "execution_count": 119,
   "id": "43648473-c650-4457-8cff-4d2ade4d9aec",
   "metadata": {},
   "outputs": [
    {
     "data": {
      "text/plain": [
       "'Polygon'"
      ]
     },
     "execution_count": 119,
     "metadata": {},
     "output_type": "execute_result"
    }
   ],
   "source": [
    "geojson_dict.get('type')"
   ]
  },
  {
   "cell_type": "code",
   "execution_count": 133,
   "id": "cb4cf1c6-6f39-4d91-8da3-d3cb88dd1316",
   "metadata": {},
   "outputs": [
    {
     "name": "stdout",
     "output_type": "stream",
     "text": [
      "(30.0, 30.0)\n",
      "BoundingBox(left=1603845.0, bottom=1950165.0, right=1637295.0, top=1973355.0)\n",
      "[1615000, 1630000, 1960000, 1970000]\n"
     ]
    },
    {
     "data": {
      "text/plain": [
       "array([[[ 0],\n",
       "        [ 0],\n",
       "        [ 0],\n",
       "        ...,\n",
       "        [ 0],\n",
       "        [ 0],\n",
       "        [ 0]],\n",
       "\n",
       "       [[ 0],\n",
       "        [ 0],\n",
       "        [ 0],\n",
       "        ...,\n",
       "        [94],\n",
       "        [82],\n",
       "        [85]],\n",
       "\n",
       "       [[ 0],\n",
       "        [ 0],\n",
       "        [ 0],\n",
       "        ...,\n",
       "        [94],\n",
       "        [83],\n",
       "        [94]],\n",
       "\n",
       "       ...,\n",
       "\n",
       "       [[ 0],\n",
       "        [94],\n",
       "        [89],\n",
       "        ...,\n",
       "        [14],\n",
       "        [15],\n",
       "        [18]],\n",
       "\n",
       "       [[ 0],\n",
       "        [89],\n",
       "        [90],\n",
       "        ...,\n",
       "        [14],\n",
       "        [20],\n",
       "        [23]],\n",
       "\n",
       "       [[ 0],\n",
       "        [ 0],\n",
       "        [ 0],\n",
       "        ...,\n",
       "        [ 0],\n",
       "        [ 0],\n",
       "        [ 0]]], dtype=uint8)"
      ]
     },
     "execution_count": 133,
     "metadata": {},
     "output_type": "execute_result"
    }
   ],
   "source": [
    "test_canopy = WCS_Info(layer_id='mrlc_download:nlcd_tcc_conus_2019_v2021-4',\n",
    "                 wcs_url = 'https://www.mrlc.gov/geoserver/ows', \n",
    "                 epsg = 'EPSG:5070',\n",
    "                 path = params['geo']['tiff_path'],\n",
    "                 bounds = [int(params['geo']['x_min']), \n",
    "                           int(params['geo']['x_max']), \n",
    "                           int(params['geo']['y_min']), \n",
    "                           int(params['geo']['y_max'])], \n",
    "                 description = '2019 NLCD Canopy Estimate for Howard County'\n",
    "                 )\n",
    "\n",
    "if os.path.isfile(test_canopy.path): \n",
    "    with rasterio.open(test_canopy.path, 'r') as ds:\n",
    "        xy_resolution = ds.res\n",
    "        print(xy_resolution)\n",
    "        image_bounds = ds.bounds\n",
    "        print(image_bounds)\n",
    "        print(test_canopy.bounds)\n",
    "        # arr = reshape_as_image(ds.read(window = window))   # read all raster values and return them as (x,y,z) \n",
    "        # x = ds.read() \n",
    "        x =reshape_as_image(mask(ds, shapes = [bbox], crop = True)[0])\n",
    "x"
   ]
  },
  {
   "cell_type": "code",
   "execution_count": 129,
   "id": "1db47e43-c278-470e-8aac-fc6bd12032e1",
   "metadata": {},
   "outputs": [
    {
     "data": {
      "text/plain": [
       "(array([[[ 0,  0,  0, ...,  0,  0,  0],\n",
       "         [ 0,  0,  0, ..., 94, 82, 85],\n",
       "         [ 0,  0,  0, ..., 94, 83, 94],\n",
       "         ...,\n",
       "         [ 0, 94, 89, ..., 14, 15, 18],\n",
       "         [ 0, 89, 90, ..., 14, 20, 23],\n",
       "         [ 0,  0,  0, ...,  0,  0,  0]]], dtype=uint8),\n",
       " Affine(30.0, 0.0, 1614975.0,\n",
       "        0.0, -30.0, 1970025.0))"
      ]
     },
     "execution_count": 129,
     "metadata": {},
     "output_type": "execute_result"
    }
   ],
   "source": [
    "x"
   ]
  },
  {
   "cell_type": "code",
   "execution_count": null,
   "id": "bf2127e1-61d6-46e0-99c0-472b08b8357d",
   "metadata": {},
   "outputs": [],
   "source": [
    "comm = MPI.COMM_WORLD\n",
    "  \n",
    "# Convert projection units to pixel units:\n",
    "# Array is in (y,x,z)\n",
    "projection_bounds = space.BoundingBox(0, \n",
    "                            canopy_array.shape[1], \n",
    "                            0, \n",
    "                            canopy_array.shape[0], \n",
    "                            0, \n",
    "                            0) \n",
    " \n",
    "canopy_layer = SharedValueLayer(comm = comm, \n",
    "                                bounds = projection_bounds, \n",
    "                                borders = space.BorderType.Sticky, \n",
    "                                buffer_size = int(params['geo']['buffer_size']), \n",
    "                                init_value = 0)\n",
    "\n",
    "sub_array = canopy_array.T[0,0]\n",
    "\n",
    "canopy_layer.grid = torch.from_numpy(canopy_array).type(torch.float64)\n",
    "\n",
    "# grid = space.SharedGrid('grid', \n",
    "#                         bounds = projection_bounds, \n",
    "#                         borders = space.BorderType.Sticky, \n",
    "#                         occupancy = OccupancyType.Multiple,\n",
    "#                         buffer_size = int(params['geo']['buffer_size']), \n",
    "#                         comm=comm)\n",
    "\n",
    "# shared_space = space.SharedCSpace('space', \n",
    "#                            bounds = projection_bounds, \n",
    "#                            borders = BorderType.Sticky, \n",
    "#                            occupancy = OccupancyType.Multiple,\n",
    "#                            buffer_size = int(params['geo']['buffer_size']), \n",
    "#                            comm=comm, \n",
    "#                            tree_threshold=100)\n",
    "\n",
    "# context.add_projection(grid) \n",
    "# context.add_projection(shared_space)\n",
    "# context.add_value_layer(canopy_layer)"
   ]
  },
  {
   "cell_type": "code",
   "execution_count": null,
   "id": "1ce7cbfc-7ede-425a-8fef-1a525751c9a8",
   "metadata": {},
   "outputs": [],
   "source": [
    "sub_array.shape[1:]"
   ]
  },
  {
   "cell_type": "code",
   "execution_count": null,
   "id": "75a70fe4-23e0-4a91-9d8b-c5c0c310f9b2",
   "metadata": {},
   "outputs": [],
   "source": [
    "xy = [canopy_layer.bounds.xmin, \n",
    "                    canopy_layer.bounds.xmin + canopy_layer.bounds.xextent,\n",
    "                    canopy_layer.bounds.ymin, \n",
    "                    canopy_layer.bounds.ymin + canopy_layer.bounds.yextent,\n",
    "                   ]\n",
    "# xy = [15, 33, 0, 33]"
   ]
  },
  {
   "cell_type": "code",
   "execution_count": null,
   "id": "72b3fa26-af57-46c4-9b3a-3cb13b009acc",
   "metadata": {},
   "outputs": [],
   "source": [
    "sub_array = canopy_array[0,xy[0]:xy[1],xy[2]:xy[3]]\n",
    "canopy_layer.grid[xy[0]:xy[1],xy[2]:xy[3]] = torch.from_numpy(sub_array).type(torch.float64)\n",
    "sub_array.shape"
   ]
  },
  {
   "cell_type": "code",
   "execution_count": null,
   "id": "f17b92cb-28dd-4f9e-a642-34c5bd824e3e",
   "metadata": {},
   "outputs": [],
   "source": [
    "canopy_layer.bounds"
   ]
  },
  {
   "cell_type": "code",
   "execution_count": null,
   "id": "570e2307-3ce6-461e-950c-75fed5c7ce62",
   "metadata": {},
   "outputs": [],
   "source": [
    "canopy_layer.grid.shape"
   ]
  },
  {
   "cell_type": "code",
   "execution_count": null,
   "id": "263c02bb-4f56-4642-8505-094ea752d496",
   "metadata": {},
   "outputs": [],
   "source": [
    "torch.from_numpy(sub_array)[0,:,:].shape"
   ]
  },
  {
   "cell_type": "code",
   "execution_count": null,
   "id": "7ae83592-e352-4c7e-893e-d22d8a68cc2b",
   "metadata": {},
   "outputs": [],
   "source": [
    "canopy_layer.grid.shape"
   ]
  },
  {
   "cell_type": "code",
   "execution_count": null,
   "id": "222a2549-e27b-45ab-bc3a-fa68308fd383",
   "metadata": {},
   "outputs": [],
   "source": [
    " 1:67"
   ]
  },
  {
   "cell_type": "code",
   "execution_count": null,
   "id": "b5e15126-d378-4497-942f-b7b488076117",
   "metadata": {},
   "outputs": [],
   "source": [
    " "
   ]
  },
  {
   "cell_type": "markdown",
   "id": "a5833ee8-8096-41ec-85a2-a0b978460184",
   "metadata": {},
   "source": [
    "## Now to read the tiff\n",
    "although it might be easier to just use the memory object, but this allows caching too and eyeballin'\n"
   ]
  },
  {
   "cell_type": "code",
   "execution_count": null,
   "id": "967e6063-0bf1-43e7-a31e-257173dc8b48",
   "metadata": {},
   "outputs": [],
   "source": [
    "\n",
    "raster =  rasterio.open('raster.tif')\n",
    "gt = raster.affine\n",
    "print gt\n",
    "Affine(2.11668210080698, 0.0, 258012.37107330866,\n",
    "   0.0, -2.1168501270110074, 163176.6385398821)\n",
    "pixelSizeX = gt[0]\n",
    "pixelSizeY =-gt[4]\n",
    "print pixelSizeX\n",
    "2.11668210080698\n",
    "print pixelSizeY\n",
    "2.1168501270110074"
   ]
  },
  {
   "cell_type": "code",
   "execution_count": null,
   "id": "40f89f04-af48-432d-8442-a7a56993aba3",
   "metadata": {},
   "outputs": [],
   "source": [
    "import rasterio\n",
    "with rasterio.open('land_cover2019.tiff', 'r') as ds:\n",
    "    xy_resolution = ds.res\n",
    "    arr = ds.read()  # read all raster values"
   ]
  },
  {
   "cell_type": "code",
   "execution_count": null,
   "id": "ef6f5464-7413-4eb4-bbea-1b3f93568d09",
   "metadata": {},
   "outputs": [],
   "source": []
  },
  {
   "cell_type": "code",
   "execution_count": null,
   "id": "26826591-519c-46c1-bb9b-c5b0f367f3ec",
   "metadata": {},
   "outputs": [],
   "source": [
    "@dataclass\n",
    "def Img_Info():\n",
    "    layer_name\n",
    "    url\n",
    "    epsg\n",
    "    bounds\n",
    "    format\n",
    "    description\n",
    "    "
   ]
  },
  {
   "cell_type": "code",
   "execution_count": null,
   "id": "9e62b183-54c6-424f-8872-8a6f14537eb4",
   "metadata": {},
   "outputs": [],
   "source": [
    "land_cover = WCS_Info(layer_id='mrlc_download__NLCD_2019_Land_Cover_L48',\n",
    "                     wcs_url = 'https://www.mrlc.gov/geoserver/ows', \n",
    "                     epsg = 'EPSG:5070',\n",
    "                     path = './tmp/2019_LandCover.tiff',\n",
    "                     bounds = [1603849, 1637294, 1950179, 1973346], \n",
    "                     description = '2019 NLCD Landcover classification for Howard County'\n",
    "                     )\n",
    "\n",
    "imp_surf = WCS_Info(layer_id='mrlc_download__NLCD_2019_Impervious_L48',\n",
    "                     wcs_url = 'https://www.mrlc.gov/geoserver/ows', \n",
    "                     epsg = 'EPSG:5070',\n",
    "                     path = './tmp/2019_ImpervSurf.tiff',\n",
    "                     bounds = [1603849, 1637294, 1950179, 1973346], \n",
    "                     description = '2019 NLCD Impervious Surfaces for Howard County'\n",
    "                     ) \n",
    "\n",
    "# https://www.mrlc.gov/data/nlcd-2019-usfs-tree-canopy-cover-conus\n",
    "# https://www.mrlc.gov/geoserver/ows?service=WCS&version=2.0.1&\n",
    "# &REQUEST=GetCoverage&coverageId=mrlc_download:nlcd_tcc_conus_2019_v2021-4\n",
    "# &SUBSETTINGCRS=EPSG:4326&subset=Long(-77.187113,-76.696774)&subset=Lat(39.103142,39.369323)&FORMAT=image/tiff\n",
    "\n",
    "canopy = WCS_Info(layer_id='mrlc_download:nlcd_tcc_conus_2019_v2021-4',\n",
    "                     wcs_url = 'https://www.mrlc.gov/geoserver/ows', \n",
    "                     epsg = 'EPSG:5070',\n",
    "                     path = './tmp/2019_CONUS_Canopy.tiff',\n",
    "                     bounds = [1603849, 1637294, 1950179, 1973346], \n",
    "                     description = '2019 NLCD Canopy Estimate for Howard County'\n",
    "                     )\n",
    "############################################################################\n",
    "\n",
    "'''\n",
    "Download WCS image, save it to a file, and return a numpy array of the raster.\n",
    "Also return the XY pixel resolution in the projection units.\n",
    "'''\n",
    "wcs_service = WebCoverageService(WCS_Info.wcs_url,\n",
    "                        version=WCS_Info.wcs_version)\n",
    "img = wcs_service.getCoverage(identifier = [WCS_Info.layer_id],\n",
    "                              srs = WCS_Info.epsg,\n",
    "                              subsets = [(WCS_Info.x_label, WCS_Info.bounds[0], WCS_Info.bounds[1]),\n",
    "                                         (WCS_Info.y_label, WCS_Info.bounds[2], WCS_Info.bounds[3])],\n",
    "                              format = WCS_Info.file_format)\n",
    "\n",
    "out = open(WCS_Info.path, 'wb')\n",
    "out.write(img.read())\n",
    "out.close()\n",
    "\n",
    "with rasterio.open(WCS_Info.path, 'r') as ds:\n",
    "    xy_resolution = ds.res\n",
    "    arr = reshape_as_image(ds.read())  # read all raster values and return them as (x,y,z) \n",
    " "
   ]
  },
  {
   "cell_type": "code",
   "execution_count": null,
   "id": "dc57ed6f-6dfa-490f-ba9f-6744086acccf",
   "metadata": {},
   "outputs": [],
   "source": [
    "dataset = rasterio.open(canopy.path)"
   ]
  },
  {
   "cell_type": "code",
   "execution_count": null,
   "id": "2a1cf2d2-e60e-4091-9325-80b6406bf2b2",
   "metadata": {},
   "outputs": [],
   "source": [
    "with rasterio.open(canopy.path, 'r') as ds:\n",
    "            xy_resolution = ds.res\n",
    "            image_bounds = ds.bounds\n",
    "            window = rasterio.Window(WCS_Info.bounds[0], WCS_Info.bounds[1], WCS_Info.bounds[2], WCS_Info.bounds[3])\n",
    "            arr = reshape_as_image(ds.read(window))   # read all raster values and return them as (x,y,z) \n"
   ]
  },
  {
   "cell_type": "code",
   "execution_count": null,
   "id": "43c84625-40b2-4f01-ba26-98ada4241fe4",
   "metadata": {},
   "outputs": [],
   "source": [
    " bounds = [1603849, 1637294, 1950179, 1973346], "
   ]
  }
 ],
 "metadata": {
  "kernelspec": {
   "display_name": "Python 3 (ipykernel)",
   "language": "python",
   "name": "python3"
  },
  "language_info": {
   "codemirror_mode": {
    "name": "ipython",
    "version": 3
   },
   "file_extension": ".py",
   "mimetype": "text/x-python",
   "name": "python",
   "nbconvert_exporter": "python",
   "pygments_lexer": "ipython3",
   "version": "3.11.9"
  }
 },
 "nbformat": 4,
 "nbformat_minor": 5
}
