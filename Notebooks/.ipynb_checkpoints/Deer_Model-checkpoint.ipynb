{
 "cells": [
  {
   "cell_type": "code",
   "execution_count": 6,
   "id": "10eac835-dee9-488b-b135-808848a1cc0d",
   "metadata": {},
   "outputs": [],
   "source": [
    "import random\n",
    "import numpy as np"
   ]
  },
  {
   "cell_type": "code",
   "execution_count": 7,
   "id": "e70684ac-e510-4433-93d5-39e0ae1f2e9c",
   "metadata": {},
   "outputs": [],
   "source": [
    "this_seed = 12345"
   ]
  },
  {
   "cell_type": "code",
   "execution_count": 28,
   "id": "feb0d100-5b32-4c29-bc0f-fd40bf220547",
   "metadata": {},
   "outputs": [
    {
     "name": "stdout",
     "output_type": "stream",
     "text": [
      "-0.9038889997942827\n",
      "0.15713145715131374\n",
      "1.802628679592353\n",
      "-1.5337762569179567\n",
      "-0.8931272900365523\n",
      "1.6828531074075155\n",
      "0.7231048040542645\n",
      "0.6530793422041037\n"
     ]
    }
   ],
   "source": [
    "# Deer has a home range of 3 units centered around (0,0)\n",
    "centroid_x = 0\n",
    "centroid_y = 0\n",
    "home_range_d = 3\n",
    "speed_scaling_factor = 1\n",
    "\n",
    "\n",
    "x = 0\n",
    "y = 0\n",
    "\n",
    "x_history = [x]\n",
    "y_history = [y]\n",
    "for tick in [1,2,3,4]:\n",
    "    rng = np.random.default_rng(this_seed+tick)\n",
    "    x_delta, y_delta = rng.standard_normal(2)*speed_scaling_factor\n",
    "\n",
    "    # Check if X and Y components are too far away from centroid\n",
    "    # And if so, change sign of delta to move towards centroid\n",
    "    if centroid_x - last_x > home_range_d:\n",
    "        x_delta = 0 - abs(x_delta) # Make next X component towards centroid\n",
    "    elif last_x - centroid_x > home_range_d\n",
    "        x_delta = abs(x_delta) # Make next X component towards centroid\n",
    "\n",
    "    if centroid_y - last_y > home_range_d:\n",
    "        y_delta = 0 - abs(y_delta) # Make next X component towards centroid\n",
    "    elif last_y - centroid_y > home_range_d\n",
    "        y_delta = abs(y_delta) # Make next X component towards centroid\n",
    "\n",
    "    # Step\n",
    "    x = x + x_delta\n",
    "    y = y + y_delta\n",
    "    \n",
    "    x_history.append(x)\n",
    "    y_history.append(y)"
   ]
  },
  {
   "cell_type": "code",
   "execution_count": 22,
   "id": "5a6d8d0a-4266-48fb-b130-94ed6db20529",
   "metadata": {},
   "outputs": [
    {
     "data": {
      "text/plain": [
       "array([-1.42382504,  1.26372846])"
      ]
     },
     "execution_count": 22,
     "metadata": {},
     "output_type": "execute_result"
    }
   ],
   "source": [
    "this_seed = int(self.random_starter_seed + tick) \n",
    "        \n",
    "rng = np.random.default_rng(this_seed+tick)\n",
    "x_delta,y_delta = rng.standard_normal(2)\n",
    "\n",
    "centroid_x = self.home_range_centroid[0]\n",
    "centroid_y = self.home_range_centroid[1]\n",
    "home_range_d = self.home_range_diameter\n",
    "\n",
    "if abs(centroid_x - last_x) > home_range_d:\n",
    "    # The last known X is too far away from centroid\n",
    "    x_delta = 0 - abs(x_delta) # Make next X component towards centroid\n",
    "if abs(centroid_y - last_y) > home_range_d:\n",
    "    # The last known Y is too far away from centroid\n",
    "    x_delta = 0 - abs(x_delta) # Make next Y component towards centroid"
   ]
  }
 ],
 "metadata": {
  "kernelspec": {
   "display_name": "Python 3 (ipykernel)",
   "language": "python",
   "name": "python3"
  },
  "language_info": {
   "codemirror_mode": {
    "name": "ipython",
    "version": 3
   },
   "file_extension": ".py",
   "mimetype": "text/x-python",
   "name": "python",
   "nbconvert_exporter": "python",
   "pygments_lexer": "ipython3",
   "version": "3.11.9"
  }
 },
 "nbformat": 4,
 "nbformat_minor": 5
}
