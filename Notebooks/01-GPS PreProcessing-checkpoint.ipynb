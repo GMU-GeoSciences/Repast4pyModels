{
 "cells": [
  {
   "cell_type": "markdown",
   "id": "22692860-e649-4324-8c15-1949d86c0cbc",
   "metadata": {},
   "source": [
    "## GPS Preprocessing\n",
    "This is the first step in creating a configuration file for an Agent Based Model. The goal of this notebook is to allow the ABM to be configured to accurately represent the GPS dataset used. \n",
    "\n",
    "The first steps are to filter out GPS points that have a poor DOP, that could result in a poor location lock, and to seperate timeseries trajectories where the time interval is not regular. Several files are created based on the following conditions:\n",
    "  - Deer Season\n",
    "  - Male/Female animals\n",
    "\n",
    "The output of this notebook is passed to another notebook, that uses an R kernel, to fit a movement model to the data. "
   ]
  },
  {
   "cell_type": "code",
   "execution_count": 2,
   "id": "2c81c33c-5f6a-4265-a068-199726974539",
   "metadata": {},
   "outputs": [],
   "source": [
    "import pandas as pd\n",
    "import geopandas as gpd\n",
    "import json\n",
    "import numpy as np\n",
    "import os\n",
    "import datetime\n",
    "# from datetime import, timedelta\n",
    "import plotly.express as px\n",
    "import git\n",
    "from math import radians, sin, cos, sqrt, asin\n"
   ]
  },
  {
   "cell_type": "code",
   "execution_count": null,
   "id": "f9c42e0e-d982-4f5c-be6f-70f464f5615c",
   "metadata": {},
   "outputs": [],
   "source": [
    "# Control Variables \n",
    "sim_projection = 'EPSG:5070'\n",
    "gps_projection = 'EPSG:4326'\n",
    "\n",
    "chosen_projection = gps_projection"
   ]
  },
  {
   "cell_type": "code",
   "execution_count": null,
   "id": "ec125248-17a7-4bab-ada5-a119a8f9346b",
   "metadata": {},
   "outputs": [],
   "source": [
    "input_gps_file = './input-data/AWP_ALL_DEER_GPS_Cleaned.csv'\n",
    "input_individual_file = './input-data/Individuals.csv'\n",
    "output_gps_file = './output-data/filtered_gps.parq'\n",
    "output_gpkg_file = './output-data/filtered_gps.gpkg'\n",
    "meta_file = './output-data/meta.json'\n",
    "\n",
    "raster_file_path = './input-data/RSF_suitability_classes.tif'"
   ]
  },
  {
   "cell_type": "code",
   "execution_count": null,
   "id": "f67cccb2-cbf8-4e9f-a560-be3000dfb92e",
   "metadata": {},
   "outputs": [],
   "source": [
    "MAX_DOP_VALUE = 10 # Discard GPS values with a DOP higher than this\n",
    "MAX_TIME_GAP = 1.2 # Discard GPS points that have a gap more than this many hours\n",
    "COLUMNS_TO_KEEP = []"
   ]
  },
  {
   "cell_type": "code",
   "execution_count": null,
   "id": "c278658b-b01f-45f9-9d29-f4eaf1c053c0",
   "metadata": {},
   "outputs": [],
   "source": [
    "indi_df = pd.read_csv(input_individual_file)\n",
    "indi_df['CollarID'] = indi_df['Collar ID'].combine_first(indi_df['Collar'])\n",
    "indi_df['Collar']= indi_df['Collar'].astype(str)"
   ]
  },
  {
   "cell_type": "code",
   "execution_count": null,
   "id": "517eba70-776b-4e0d-8d65-adfbb2d8eb66",
   "metadata": {},
   "outputs": [],
   "source": [
    "gps_df = pd.read_csv(input_gps_file)\n",
    "gps_df['timestamp'] = pd.to_datetime(gps_df['Date'] + ' ' + gps_df['GMT Time Stamp'],format='%d/%m/%Y %H:%M:%S')\n",
    "gps_df['tag-local-identifier'] = gps_df['tag-local-identifier'].astype(str)\n",
    "\n",
    "gps_df1 = pd.merge(gps_df, indi_df, left_on='tag-local-identifier', right_on='Collar', how='inner')\n",
    "gps_df2 = pd.merge(gps_df, indi_df, left_on='tag-local-identifier', right_on='Collar ID', how='inner')\n",
    "gps_df = pd.concat([gps_df1,gps_df2])"
   ]
  },
  {
   "cell_type": "code",
   "execution_count": null,
   "id": "cbddf102-43de-481b-ab19-d15f7e0fd851",
   "metadata": {},
   "outputs": [],
   "source": [
    "gps_df.iloc[1]"
   ]
  },
  {
   "cell_type": "code",
   "execution_count": null,
   "id": "28e18437-4079-4369-b6bc-ade9f3b895f6",
   "metadata": {},
   "outputs": [],
   "source": [
    "gdf_gps = gpd.GeoDataFrame(\n",
    "    gps_df, \n",
    "    geometry=gpd.points_from_xy(gps_df['location-long'], gps_df['location-lat'], crs=gps_projection))"
   ]
  },
  {
   "cell_type": "markdown",
   "id": "95700672-bed1-4d8d-818e-0c9021df59e8",
   "metadata": {},
   "source": [
    "# Home Range Centroids\n",
    "\n",
    "Let's assume that the animals spend most of their time within their home range. The DLD paper takes the average lon/lat position as the centroid to the home range which seems sensible. The data we have spans over years though, and it is likely that a home range will drift or change due to dispersement or population pressures. So why don't we represent the centroid by the moving average of the lon/lat. This needs to be done before filtering as that would cause issues when trajectories get split.\n",
    "\n",
    "We're not really sure how long to average over... so we're going to calculate several moving averages and test to see which is better.."
   ]
  },
  {
   "cell_type": "code",
   "execution_count": null,
   "id": "162cb741-bea8-4176-bedb-de743bcadbd1",
   "metadata": {},
   "outputs": [],
   "source": [
    "# gps_df['1M_lat'] = gps_df.groupby('Deer ID')['location-lat'].transform(lambda c: c.rolling(720,min_periods=1).mean())\n",
    "# gps_df['1M_lon'] = gps_df.groupby('Deer ID')['location-long'].transform(lambda c: c.rolling(720,min_periods=1).mean())\n",
    "\n",
    "# gps_df['2M_lat'] = gps_df.groupby('Deer ID')['location-lat'].transform(lambda c: c.rolling(1440,min_periods=1).mean())\n",
    "# gps_df['2M_lon'] = gps_df.groupby('Deer ID')['location-long'].transform(lambda c: c.rolling(1440,min_periods=1).mean())"
   ]
  },
  {
   "cell_type": "code",
   "execution_count": null,
   "id": "8dd28bdc-e8cb-4738-a1ea-04f0b1f80200",
   "metadata": {},
   "outputs": [],
   "source": [
    "# Let's calculate the monthly homerange in another way\n",
    "\n",
    "gdf_gps['timestamp'] = pd.to_datetime(gdf_gps['timestamp'] )\n",
    "gdf_gps['time_group'] = gdf_gps['timestamp'].dt.to_period('M')\n",
    " \n",
    "gps_homeranges = gdf_gps.dissolve([\"Deer ID\", \"time_group\"]).convex_hull.reset_index().set_geometry(0)\n",
    "gps_time_counter = gdf_gps.groupby(['Deer ID','time_group'])['timestamp'].count().reset_index()\n",
    "gps_homeranges = pd.merge(\n",
    "    left=gps_homeranges, \n",
    "    right=gps_time_counter,\n",
    "    how='left',\n",
    "    left_on=['Deer ID', 'time_group'],\n",
    "    right_on=['Deer ID', 'time_group'])\n",
    "\n",
    "deer_info = gdf_gps[['Deer ID', 'Sex']].drop_duplicates().reset_index(drop=True)\n",
    "gps_homeranges = pd.merge(\n",
    "    left=gps_homeranges, \n",
    "    right=deer_info[['Sex','Deer ID']],\n",
    "    how='left',\n",
    "    left_on=['Deer ID'],\n",
    "    right_on=['Deer ID'])\n",
    "\n",
    "gps_homeranges = gps_homeranges.rename(columns = {'timestamp':'samples_in_group' })\n",
    "gps_homeranges.rename_geometry('geom')"
   ]
  },
  {
   "cell_type": "code",
   "execution_count": null,
   "id": "f02d22b4-e13a-46c5-af52-bf7f41402d5b",
   "metadata": {},
   "outputs": [],
   "source": [
    "# Calculate centroid from monthly home range centroid\n",
    "gps_homeranges['centroid x'] = gps_homeranges.centroid.x\n",
    "gps_homeranges['centroid y'] = gps_homeranges.centroid.y\n",
    "gps_centroids = gps_homeranges"
   ]
  },
  {
   "cell_type": "code",
   "execution_count": null,
   "id": "ab3a8e55-4522-4040-84cd-9bbb53585582",
   "metadata": {},
   "outputs": [],
   "source": [
    "gdf_gps = pd.merge(\n",
    "    left=gdf_gps, \n",
    "    right=gps_homeranges[['Deer ID','time_group','centroid x','centroid y']],\n",
    "    how='left',\n",
    "    left_on=['Deer ID','time_group'],\n",
    "    right_on=['Deer ID','time_group'])"
   ]
  },
  {
   "cell_type": "markdown",
   "id": "90c3d41e-f8ed-474a-8f4f-363cfd2ddd20",
   "metadata": {},
   "source": [
    "# Filter GPS Data and create new IDs\n",
    "Filter the GPS data to remove points with poor GPD DOP. The HMM and trajectory analysis assumes that the data is regularly sampled. We could either resample/interpolate the data to avoid gaps or create new ID's for trajectory segments that are seperated by gaps. \n",
    "\n",
    "Steps taken:\n",
    "    - Calculate a datetime from the seperate columns\n",
    "    - Calculate timedelta for consecutive GPS fields\n",
    "    - Drop events that have a GPS:DOP [greater than 10](https://en.wikipedia.org/wiki/Dilution_of_precision_(navigation))"
   ]
  },
  {
   "cell_type": "code",
   "execution_count": null,
   "id": "04e4259d-13b0-4a0a-a5b8-2090cbd09a0c",
   "metadata": {},
   "outputs": [],
   "source": [
    "px.histogram(gps_df, x='gps:dop',\n",
    "            title = f'Dilution of Precision <br><sup> Samples with DOP larger than {MAX_DOP_VALUE} are dropped. </sup>')"
   ]
  },
  {
   "cell_type": "code",
   "execution_count": null,
   "id": "88175db5-b587-4d4e-af8f-40e90e80c54b",
   "metadata": {},
   "outputs": [],
   "source": [
    "gdf_gps"
   ]
  },
  {
   "cell_type": "code",
   "execution_count": null,
   "id": "dcc55fbd-29e3-4adc-930e-51df323ee42b",
   "metadata": {},
   "outputs": [],
   "source": [
    "df_filtered = gdf_gps[gdf_gps['gps:dop'] < MAX_DOP_VALUE]"
   ]
  },
  {
   "cell_type": "code",
   "execution_count": null,
   "id": "0b9c6e81-ed26-4182-9f91-17d8f4b77921",
   "metadata": {},
   "outputs": [],
   "source": [
    "df_filtered['ID'] =  df_filtered['CollarID'].astype(str) + df_filtered['individual-local-identifier'].astype(str) + df_filtered['tag-local-identifier'].astype(str)\n",
    "\n",
    "gps_column_rename = {\n",
    "                 'ID':'ID', \n",
    "                 'Deer ID':'Deer ID',\n",
    "                 'timestamp':'timestamp',  \n",
    "                 'Sex':'sex', \n",
    "                 'location-lat':'lat', \n",
    "                 'location-long':'lon',\n",
    "                 'centroid x':'centroid x',\n",
    "                 'time_group':'time_group',\n",
    "                 'centroid y':'centroid y',\n",
    "                 'geometry':'geometry',\n",
    "                 # '2M_lon':'2M_lon',\n",
    "                 'utm-easting':'utm-easting',\n",
    "                 'utm-northing':'utm-northing', \n",
    "}\n",
    "\n",
    "df_filtered = df_filtered[gps_column_rename.keys()]\n",
    "df_filtered = df_filtered.rename(columns=gps_column_rename) "
   ]
  },
  {
   "cell_type": "code",
   "execution_count": null,
   "id": "ee93a396-db3d-4fb7-a4a5-c8bb4064bd29",
   "metadata": {},
   "outputs": [],
   "source": [
    "df_filtered['timedelta'] = df_filtered.groupby('ID')['timestamp'].diff()\n",
    "df_filtered['timedelta'] = df_filtered.apply(lambda row: row.timedelta.total_seconds()/60/60, axis=1) \n",
    "px.histogram(df_filtered, \n",
    "             x='timedelta',\n",
    "             # range_x = [0,3],\n",
    "             nbins = 100,\n",
    "             title = 'TimeDelta before filtering',\n",
    "             labels={\n",
    "                     \"timedelta\": \"Period between samples (hours)\", \n",
    "                 },\n",
    "            )"
   ]
  },
  {
   "cell_type": "markdown",
   "id": "d9b55118-e221-4244-91a1-2d31a1b271f9",
   "metadata": {},
   "source": [
    "## Check for time gaps that are too large\n",
    "\n",
    "Hidden Markov Models assume that the timeseries is regularly sampled. If it isn't, well, that could cause some problems. This steps checks that the timestamp interval is close to 1 hour, and renames the ID where gaps are seen.\n",
    "\n",
    "https://stackoverflow.com/questions/40118037/how-can-i-detect-gaps-and-consecutive-periods-in-a-time-series-in-pandas"
   ]
  },
  {
   "cell_type": "code",
   "execution_count": null,
   "id": "d87fa01b-0d3e-4f1c-9c70-84c61b2e13f2",
   "metadata": {},
   "outputs": [],
   "source": [
    "\n",
    "def modify_ids_on_timestamp_gaps(df, id_col='ID', timestamp_col='timestamp', gap_threshold='1h'):\n",
    "    \"\"\"\n",
    "    Modifies IDs in a DataFrame based on timestamp gaps within each ID group.\n",
    "\n",
    "    Parameters:\n",
    "    df (pandas.DataFrame): The DataFrame with ID and timestamp columns.\n",
    "    id_col (str): The name of the ID column.\n",
    "    timestamp_col (str): The name of the timestamp column.\n",
    "    gap_threshold (str): The time gap threshold (e.g., '1H' for 1 hour, '1D' for 1 day).\n",
    "\n",
    "    Returns:\n",
    "    pandas.DataFrame: The modified DataFrame.\n",
    "    \"\"\"\n",
    "\n",
    "    df = df.sort_values(by=[id_col, timestamp_col])\n",
    "    df[timestamp_col] = pd.to_datetime(df[timestamp_col])\n",
    "\n",
    "    def process_group(group):\n",
    "        time_diffs = group[timestamp_col].diff()\n",
    "        gap_mask = time_diffs > pd.Timedelta(gap_threshold)\n",
    "        gap_indices = gap_mask[gap_mask].index\n",
    "\n",
    "        if len(gap_indices) > 0:\n",
    "            for i, gap_index in enumerate(gap_indices):\n",
    "                gap_string = str(group.loc[gap_index:, id_col])\n",
    "                if i > 0:\n",
    "                    # print(group.loc[gap_index:, id_col].str[:-7])\n",
    "                    gap_size = len(f'_gap_{i}')\n",
    "                    group.loc[gap_index:, id_col] = group.loc[gap_index:, id_col].str[:-gap_size] + f'_gap_{i+1}'\n",
    "                else:\n",
    "                    group.loc[gap_index:, id_col] = group.loc[gap_index:, id_col] + f'_gap_{i+1}'\n",
    "        return group\n",
    "\n",
    "    modified_df = df.groupby(id_col, group_keys=False).apply(process_group)\n",
    "    return modified_df"
   ]
  },
  {
   "cell_type": "code",
   "execution_count": null,
   "id": "566137c3-93ff-4a12-8782-39a04a573e84",
   "metadata": {},
   "outputs": [],
   "source": [
    "gap_threshold = '1.2h'\n",
    "df_filtered2 = modify_ids_on_timestamp_gaps(df_filtered, id_col='ID', timestamp_col='timestamp', gap_threshold=gap_threshold)\n",
    "df_filtered2['timedelta'] = df_filtered2.groupby('ID')['timestamp'].diff()\n",
    "df_filtered2['timedelta'] = df_filtered2.apply(lambda row: row.timedelta.total_seconds()/60/60, axis=1) "
   ]
  },
  {
   "cell_type": "code",
   "execution_count": null,
   "id": "0d31ca60-8ff7-4fc5-85f0-0dd59a85c257",
   "metadata": {},
   "outputs": [],
   "source": [
    "px.histogram(df_filtered2, \n",
    "             x='timedelta',\n",
    "             # range_x = [0,3],\n",
    "             nbins = 100,\n",
    "             title = f'Time gaps in series after filtering'\n",
    "            )"
   ]
  },
  {
   "cell_type": "code",
   "execution_count": null,
   "id": "40733b28-6fad-49a8-894b-bc2d6c8d84e6",
   "metadata": {},
   "outputs": [],
   "source": [
    "px.histogram(df_filtered2.groupby('ID').count(), \n",
    "             x='timestamp',\n",
    "             # range_x = [0,3],\n",
    "             nbins = 100,\n",
    "             title = f'Number of GPS samples per ID, after gap removal',\n",
    "             labels={\n",
    "                     \"timestamp\": \"Number of samples\", \n",
    "                 },\n",
    "            )"
   ]
  },
  {
   "cell_type": "markdown",
   "id": "7a0f8bf1-30c6-409d-9270-7b861bb6214b",
   "metadata": {},
   "source": [
    "It looks like there are very many new IDs that have fewer than 20 samples... that might not be great."
   ]
  },
  {
   "attachments": {
    "0f8e90b2-e1bf-4f37-a4b4-30660ec514da.png": {
     "image/png": "[encoded data removed]"
    }
   },
   "cell_type": "markdown",
   "id": "bcb8f9cb-9753-426d-b263-ba1eaa0a40e0",
   "metadata": {},
   "source": [
    "# Steps and Turns\n",
    "\n",
    "Time to calculate the turning angle and step distance for various different points:\n",
    "  \n",
    "  - Distance between current point and previous point\n",
    "  - Distance between current point and various centroids\n",
    "  - Turn angle between previous point, current point, and next point.\n",
    "  - Turn angle between previous point, current point, and centroids.\n",
    "\n",
    "![image.png](attachment:0f8e90b2-e1bf-4f37-a4b4-30660ec514da.png)\n",
    "\n",
    "\n",
    "NOTE: For some reason the turn angles calculated here are **slightly** different to the turn angles calculated in the R package... Not sure why\n"
   ]
  },
  {
   "cell_type": "code",
   "execution_count": null,
   "id": "243c8a8d-633e-462d-8386-49caf26eb911",
   "metadata": {},
   "outputs": [],
   "source": [
    "def calc_heading(lon_1, lat_1,\n",
    "                 lon_2, lat_2,\n",
    "                 lon_3, lat_3):\n",
    "    \n",
    "    '''\n",
    "    Calculate the turning angle Theta_T to go from t-1 > t > t+1 \n",
    "    or if Centroid is used as lon/lat_3 then  it should return\n",
    "    Theta_Ct\n",
    "    '''    \n",
    "    dx = lon_2 - lon_1\n",
    "    dy = lat_2 - lat_1\n",
    "    angle_radians_1 = np.arctan2(dx, dy) # Compass direction of travel between current_pos and centroid \n",
    "\n",
    "    dx = lon_3 - lon_2\n",
    "    dy = lat_3 - lat_2\n",
    "    angle_radians_2 = np.arctan2(dx, dy) # Compass direction of travel between current_pos and centroid \n",
    "    \n",
    "    turn_angle = (angle_radians_2 - angle_radians_1) % (2 * np.pi)\n",
    "\n",
    "     # Normalize the angle to the range [-pi, pi]\n",
    "    if turn_angle > np.pi:\n",
    "        turn_angle -= 2 * np.pi\n",
    "    elif turn_angle <= -np.pi:\n",
    "        turn_angle += 2 * np.pi\n",
    "        \n",
    "    return turn_angle\n",
    "\n",
    "def haversine(lat1, lon1, lat2, lon2):\n",
    "    \"\"\"\n",
    "    Calculates the great circle distance between two points\n",
    "    on the earth (specified in decimal degrees) in meters.\n",
    "    \"\"\"\n",
    "    R = 6371000  # Radius of the Earth in m \n",
    "\n",
    "    lat1, lon1, lat2, lon2 = map(radians, [lat1, lon1, lat2, lon2])\n",
    "\n",
    "    dlon = lon2 - lon1\n",
    "    dlat = lat2 - lat1\n",
    "\n",
    "    a = sin(dlat / 2)**2 + cos(lat1) * cos(lat2) * sin(dlon / 2)**2\n",
    "    # c = 2 * atan2(sqrt(a), sqrt(1 - a))\n",
    "    c = 2*asin(sqrt(a))\n",
    "\n",
    "    distance = R * c\n",
    "    return distance"
   ]
  },
  {
   "cell_type": "code",
   "execution_count": null,
   "id": "111a40bc-d703-4ee9-b264-8bf109a7dbff",
   "metadata": {},
   "outputs": [],
   "source": [
    "df_filtered2['lat_prev'] = df_filtered2.groupby('ID')['lat'].shift(1)\n",
    "df_filtered2['lon_prev'] = df_filtered2.groupby('ID')['lon'].shift(1)  \n",
    "df_filtered2['lat_next'] = df_filtered2.groupby('ID')['lat'].shift(-1)\n",
    "df_filtered2['lon_next'] = df_filtered2.groupby('ID')['lon'].shift(-1)  "
   ]
  },
  {
   "cell_type": "code",
   "execution_count": null,
   "id": "ec54a3f7-38cc-4daf-87f3-58a2a4fff935",
   "metadata": {},
   "outputs": [],
   "source": [
    "df_filtered2['step_distance'] = df_filtered2.apply(lambda row: haversine(row['lat_next'], row['lon_next'], row['lat'], row['lon']), axis=1)\n",
    "df_filtered2['return_home_distance'] = df_filtered2.apply(lambda row: haversine(row['lat'], row['lon'], row['centroid y'], row['centroid x']), axis=1)\n",
    "df_filtered2['turn_angle']  = df_filtered2.apply(lambda row: calc_heading(row['lat_prev'], row['lon_prev'], \n",
    "                                                                             row['lat'], row['lon'],\n",
    "                                                                             row['lat_next'], row['lon_next']), axis=1)\n",
    "\n",
    "df_filtered2['return_home_angle'] = df_filtered2.apply(lambda row: calc_heading(row['lat_prev'], row['lon_prev'], \n",
    "                                                                             row['lat'], row['lon'],\n",
    "                                                                             row['centroid y'], row['centroid x']), axis=1)\n"
   ]
  },
  {
   "cell_type": "code",
   "execution_count": null,
   "id": "64804873-78bd-4f11-8477-b3eec87f0b72",
   "metadata": {},
   "outputs": [],
   "source": [
    "df_filtered2 "
   ]
  },
  {
   "cell_type": "markdown",
   "id": "7aed1975-fe4a-415b-a298-33ef7dbae84a",
   "metadata": {},
   "source": [
    "# Other Data Fields\n",
    "What about time of year, the canopy cover, some other values? Stick them here:"
   ]
  },
  {
   "cell_type": "code",
   "execution_count": null,
   "id": "a32655bb-b4aa-4726-9445-1f436c637339",
   "metadata": {},
   "outputs": [],
   "source": [
    "from dataclasses import dataclass, field, fields, asdict\n",
    "from enum import Enum\n",
    "\n",
    "@dataclass() \n",
    "class TimeOfYear_mixin:\n",
    "    title: str\n",
    "    start_day: int\n",
    "    start_month: int\n",
    "    end_day: int\n",
    "    end_month: int\n",
    " \n",
    "class DeerSeasons(TimeOfYear_mixin, Enum):\n",
    "    '''\n",
    "    - Gestation ( 1 Jan - 14 May)\n",
    "    - Fawning   (15 May - 31 Aug)\n",
    "    - PreRut    ( 1 Sep - 31 Oct)\n",
    "    - Rut       ( 1 Nov - 31 Dec)\n",
    "    '''\n",
    "    GESTATION = 'Gestation', 1,1,14,5 \n",
    "    FAWNING =   'Fawning',  15,5,31,8 \n",
    "    PRERUT =    'PreRut',    1,9,31,10 \n",
    "    RUT =       'Rut',       1,11,31,12 \n",
    "\n",
    "\n",
    "def check_time_of_year(input_datetime):\n",
    "    '''\n",
    "    Check what time period it is in this tick.\n",
    "    ''' \n",
    "    for season in DeerSeasons:\n",
    "        # loop through DeerSeasons enum and return the \n",
    "        # season that envelopes input_datetime.\n",
    "        if is_season(input_datetime, season):\n",
    "            time_of_year = season.name\n",
    "            return time_of_year\n",
    "        else: \n",
    "            time_of_year = 'None'\n",
    "    return time_of_year\n",
    "\n",
    "\n",
    "def is_season(timestamp, deer_season):\n",
    "    '''\n",
    "    Returns true if timestamp falls between start and end date of deer_season\n",
    "    '''\n",
    "    date_stamp = timestamp.date() \n",
    "    start_date = datetime.date(year = date_stamp.year,\n",
    "                               month = deer_season.start_month,\n",
    "                               day = deer_season.start_day)\n",
    "     \n",
    "    end_date = datetime.date(year = date_stamp.year,\n",
    "                                    month = deer_season.end_month,\n",
    "                                    day = deer_season.end_day)\n",
    "    \n",
    "    return start_date <= date_stamp <= end_date    "
   ]
  },
  {
   "cell_type": "code",
   "execution_count": null,
   "id": "4c9f5b70-7f25-4200-827c-34e6ff7e4b41",
   "metadata": {},
   "outputs": [],
   "source": [
    "import pandas as pd\n",
    "import geopandas as gpd\n",
    "from shapely.geometry import Point\n",
    "import rasterio\n",
    "from rasterio.transform import xy\n",
    "\n",
    "def spatial_join_raster(dataframe, lat_col, lon_col, raster_path, output_col):\n",
    "    \"\"\"\n",
    "    Performs a spatial join between a pandas DataFrame and a GeoTIFF raster, adding raster values as a new column.\n",
    "\n",
    "    Args:\n",
    "        dataframe (pd.DataFrame): The pandas DataFrame containing latitude and longitude columns.\n",
    "        lat_col (str): The name of the latitude column.\n",
    "        lon_col (str): The name of the longitude column.\n",
    "        raster_path (str): The path to the GeoTIFF raster file.\n",
    "        output_col (str): The name of the new column to store raster values.\n",
    "\n",
    "    Returns:\n",
    "        pd.DataFrame: The DataFrame with the raster values added as a new column.\n",
    "    \"\"\"\n",
    "\n",
    "    # Create Shapely Point geometries\n",
    "    geometry = [Point(xy) for xy in zip(dataframe[lon_col], dataframe[lat_col])]\n",
    "    gdf = gpd.GeoDataFrame(dataframe, geometry=geometry, crs=\"EPSG:4326\") #WGS 84\n",
    "\n",
    "    # Open the raster file\n",
    "    with rasterio.open(raster_path) as src:\n",
    "\n",
    "        # Reproject the GeoDataFrame to the raster's CRS if they differ\n",
    "        if gdf.crs != src.crs:\n",
    "            gdf = gdf.to_crs(src.crs)\n",
    "\n",
    "        # Extract raster values at point locations\n",
    "        def get_raster_value(point):\n",
    "            row, col = src.index(point.x, point.y)\n",
    "            try:\n",
    "                return src.read(1, window=((row, row + 1), (col, col + 1)))[0, 0]\n",
    "            except IndexError: #Handle edge cases\n",
    "                return None # Or np.nan, or a default value, as needed.\n",
    "\n",
    "        gdf[output_col] = gdf['geometry'].apply(get_raster_value)\n",
    "\n",
    "    return gdf \n",
    " \n"
   ]
  },
  {
   "cell_type": "code",
   "execution_count": null,
   "id": "322b5123-dd35-4f97-8e45-1538c61c2b52",
   "metadata": {},
   "outputs": [],
   "source": [
    "\n",
    "df_filtered2 = spatial_join_raster(df_filtered2, 'lat', 'lon', raster_file_path, 'raster_value')"
   ]
  },
  {
   "cell_type": "code",
   "execution_count": null,
   "id": "dbd1b1d0-3967-4296-97ba-6b402b6883d7",
   "metadata": {
    "scrolled": true
   },
   "outputs": [],
   "source": [
    "df_filtered2['deer_season'] = df_filtered2.apply(lambda row: check_time_of_year(row.timestamp), axis=1)"
   ]
  },
  {
   "cell_type": "code",
   "execution_count": null,
   "id": "29d36fef-c1d7-4c8c-8904-1117c32920ca",
   "metadata": {},
   "outputs": [],
   "source": [
    "id_counts = df_filtered2['ID'].value_counts()\n",
    "\n",
    "# Find IDs that appear more than once\n",
    "ids_to_keep = id_counts[id_counts > 20].index\n",
    "\n",
    "# Filter the DataFrame to keep only rows with IDs that occur more than once\n",
    "df_filtered2 = df_filtered2[df_filtered2['ID'].isin(ids_to_keep)]"
   ]
  },
  {
   "cell_type": "code",
   "execution_count": null,
   "id": "976925dc-c761-4cb3-9b87-93027c8e0f1d",
   "metadata": {},
   "outputs": [],
   "source": [
    "# df_filtered_no_covariates = df_filtered2.drop([\n",
    "#                                             # 'ID', \n",
    "#                                             'timestamp', \n",
    "#                                             'sex', \n",
    "#                                             # 'lat', \n",
    "#                                             # 'lon', \n",
    "#                                             '1M_lat', \n",
    "#                                             '1M_lon', \n",
    "#                                             '2M_lat',\n",
    "#                                             '2M_lon', \n",
    "#                                             # 'utm-easting', \n",
    "#                                             # 'utm-northing', \n",
    "#                                             'timedelta', \n",
    "#                                             'lat_prev',\n",
    "#                                             'lon_prev', \n",
    "#                                             'lat_next', \n",
    "#                                             'lon_next', \n",
    "#                                             # 'step_distance',\n",
    "#                                             'return_home_distance', \n",
    "#                                             # 'turn_angle', \n",
    "#                                             'return_home_angle',\n",
    "#                                             'raster_value', \n",
    "#                                             'deer_season']\n",
    "#                                             ,axis=1)"
   ]
  },
  {
   "cell_type": "code",
   "execution_count": null,
   "id": "a5cadc92-feed-49a8-8831-ef5c545b888e",
   "metadata": {},
   "outputs": [],
   "source": [
    "df_filtered2"
   ]
  },
  {
   "cell_type": "code",
   "execution_count": null,
   "id": "aef31c64-b1e4-4378-9f78-e11e8a2d7318",
   "metadata": {},
   "outputs": [],
   "source": [
    "gps_centroids"
   ]
  },
  {
   "cell_type": "code",
   "execution_count": null,
   "id": "d1b65b99-5aeb-4cce-8780-8b6a7f20f3e3",
   "metadata": {},
   "outputs": [],
   "source": [
    "gps_centroids['geom'] = gps_centroids.centroid\n",
    "gps_centroids.set_geometry('geom', inplace=True)\n",
    "gps_centroids = gps_centroids.drop(columns=[0])\n",
    "gps_centroids.to_file('./output-data/filtered_gps_centroid.gpkg', layer='centroid', driver='GPKG')"
   ]
  },
  {
   "cell_type": "code",
   "execution_count": null,
   "id": "29f2edb8-e9b6-4cff-bdc2-a4127b1d9213",
   "metadata": {},
   "outputs": [],
   "source": [
    "df_filtered2[df_filtered2['raster_value'].isna()]"
   ]
  },
  {
   "cell_type": "code",
   "execution_count": null,
   "id": "0db1711f-b31f-4d45-bd60-24639250cb15",
   "metadata": {},
   "outputs": [],
   "source": [
    "# df_filtered_no_covariates.to_parquet(output_gps_file, index = False)\n",
    "df_filtered2.to_parquet(output_gps_file, index = False)\n",
    "df_filtered2.to_file(output_gpkg_file, layer='agent_location', driver='GPKG')"
   ]
  },
  {
   "cell_type": "code",
   "execution_count": null,
   "id": "c90c57b6-db22-4fad-a5c4-1f56aac53149",
   "metadata": {},
   "outputs": [],
   "source": [
    "repo = git.Repo(search_parent_directories=True)\n",
    "sha = repo.head.object.hexsha\n",
    "\n",
    "config_dict = {\n",
    "    'creation details':{'input GPS file': input_gps_file,\n",
    "                        'input_individuals_file' : input_individual_file,\n",
    "                        'output_file': output_gps_file,\n",
    "                       'git_sha':sha,\n",
    "                       'creation_date':datetime.datetime.now().isoformat(),},\n",
    "   'filter values': {'Max DOP':MAX_DOP_VALUE,\n",
    "                     'Gap_threshold':gap_threshold,\n",
    "                    }, \n",
    "}\n",
    "\n",
    "with open(meta_file, 'w') as fp:\n",
    "    json.dump(config_dict, fp)\n"
   ]
  },
  {
   "cell_type": "code",
   "execution_count": null,
   "id": "a2e5d650-a72f-4adc-ab9b-b0f5d809330a",
   "metadata": {},
   "outputs": [],
   "source": []
  },
  {
   "cell_type": "markdown",
   "id": "0b1c49ef-61b8-45f1-8f53-3ecc320129df",
   "metadata": {},
   "source": [
    "## Scratch Patch"
   ]
  },
  {
   "cell_type": "code",
   "execution_count": null,
   "id": "36216c32-b615-4c74-aef8-0a9372a9fd06",
   "metadata": {},
   "outputs": [],
   "source": [
    "# Centroid is lon/lat_3 and is at 0,0\n",
    "# Movement is North of centroid moving west to east\n",
    "\n",
    "\n",
    "lon_1 = 1\n",
    "lon_2 = 2\n",
    "lon_3 = 0\n",
    "\n",
    "lat_1 = 1\n",
    "lat_2 = 2\n",
    "lat_3 = 0\n",
    " \n",
    "np.rad2deg(calc_heading(lon_1, lat_1,\n",
    "             lon_2, lat_2,\n",
    "             lon_3, lat_3))"
   ]
  },
  {
   "cell_type": "code",
   "execution_count": null,
   "id": "eb584253-2a8a-4f69-baba-73b9c7f85566",
   "metadata": {},
   "outputs": [],
   "source": []
  },
  {
   "cell_type": "code",
   "execution_count": null,
   "id": "a26c9b47-2c97-41dd-a660-9f3c25f3f641",
   "metadata": {},
   "outputs": [],
   "source": []
  }
 ],
 "metadata": {
  "kernelspec": {
   "display_name": "Python 3 (ipykernel)",
   "language": "python",
   "name": "python3"
  },
  "language_info": {
   "codemirror_mode": {
    "name": "ipython",
    "version": 3
   },
   "file_extension": ".py",
   "mimetype": "text/x-python",
   "name": "python",
   "nbconvert_exporter": "python",
   "pygments_lexer": "ipython3",
   "version": "3.11.9"
  }
 },
 "nbformat": 4,
 "nbformat_minor": 5
}
