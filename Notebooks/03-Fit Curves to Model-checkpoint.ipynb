{
 "cells": [
  {
   "cell_type": "markdown",
   "id": "cc77576a-84f5-4b22-bef4-8dcb6bddbfce",
   "metadata": {},
   "source": [
    "## Fit Curves to Model\n",
    "\n",
    "The Hidden Markov Model seems to indicate that there are some hidden behavioural states that influence the step distance and turn angles. We're going to assume that the distribution of the Step Distance and Turning values is a combination of the behaviour state models. So we're going to make some guesses on the starting values of these models and then try to fit them to the data.\n",
    "\n",
    "We're going to be using similar steps to this LMFIT example:\n",
    "\n",
    "https://lmfit.github.io/lmfit-py/builtin_models.html#example-2-fit-data-to-a-composite-model-with-pre-defined-models\n",
    "\n"
   ]
  },
  {
   "cell_type": "code",
   "execution_count": null,
   "id": "7194c46d-ea7a-43af-8113-edbf0cc3075e",
   "metadata": {},
   "outputs": [],
   "source": [
    "import pandas as pd\n",
    "import plotly.express as px\n",
    "import numpy as np "
   ]
  },
  {
   "cell_type": "code",
   "execution_count": null,
   "id": "ccccf900-4607-4667-bc3e-efc926e2414e",
   "metadata": {},
   "outputs": [],
   "source": [
    "df = pd.read_parquet(\"./output-data/filtered_gps.parq\")"
   ]
  },
  {
   "cell_type": "markdown",
   "id": "36009cd3-8d5c-455f-9159-080ab49fbab7",
   "metadata": {},
   "source": [
    "# Plot PDF of Turn Angle and Step Distance"
   ]
  },
  {
   "cell_type": "code",
   "execution_count": null,
   "id": "bbc53d3b-773f-44e3-a686-ba852f8f657f",
   "metadata": {},
   "outputs": [],
   "source": [
    "df['turn_angle'].values"
   ]
  },
  {
   "cell_type": "code",
   "execution_count": null,
   "id": "13dd61e3-e83a-48d7-8587-f651f967dc3b",
   "metadata": {},
   "outputs": [],
   "source": [
    "fig = px.histogram(df, \n",
    "                   x=\"turn_angle\",\n",
    "                   histnorm='probability density',\n",
    "                  \n",
    "                 labels={\n",
    "                     \"turn_angle\": \"Turn Angle [Radians]\",\n",
    "                 },\n",
    "                title=\"Normalised Histogram of Turn Angles\")\n",
    "\n",
    "fig.update_traces(xbins=dict( # bins used for histogram\n",
    "        start=-3.1415,\n",
    "        end=3.1415,\n",
    "        size=0.05\n",
    "    ))\n",
    " \n",
    "fig.show()"
   ]
  },
  {
   "cell_type": "code",
   "execution_count": null,
   "id": "d04290c3-3c38-4747-a54c-0adf4552d42a",
   "metadata": {},
   "outputs": [],
   "source": [
    "fig = px.histogram(df, \n",
    "                   x=\"return_home_angle\",\n",
    "                   histnorm='probability density',\n",
    "                  \n",
    "                 labels={\n",
    "                     \"return_home_angle\": \"Angle to Home Range Centroid [Radians]\",\n",
    "                 },\n",
    "                title=\"Normalised Histogram of Angle to Home Range Centroid\")\n",
    "\n",
    "fig.update_traces(xbins=dict( # bins used for histogram\n",
    "        start=-3.1415,\n",
    "        end=3.1415,\n",
    "        size=0.05\n",
    "    ))\n",
    " \n",
    "fig.show()"
   ]
  },
  {
   "cell_type": "code",
   "execution_count": null,
   "id": "0561f73a-34dd-4a66-8e7d-2acc30792cde",
   "metadata": {},
   "outputs": [],
   "source": [
    "fig = px.histogram(df, \n",
    "                   x=\"step_distance\",\n",
    "                   histnorm='probability density',\n",
    "                  \n",
    "                 labels={\n",
    "                     \"step_distance\": \"Distance between GPS samples [m]\",\n",
    "                 },\n",
    "                title=\"Normalised Histogram of Step Distances\")\n",
    "\n",
    "fig.update_traces(xbins=dict( # bins used for histogram\n",
    "        start=0,\n",
    "        end=500,\n",
    "        size=5\n",
    "    ))\n",
    " \n",
    "fig.show()"
   ]
  },
  {
   "cell_type": "markdown",
   "id": "119e2b8d-c41c-454e-8b40-99420f61f5c7",
   "metadata": {},
   "source": [
    "It seems like most of the complexity in the step distribution is happening on the left hand side. It would make sense to try to map the histogram to a log(x) so that there are more points on the left hand side, to emphasise the fit without messing with weights..."
   ]
  },
  {
   "cell_type": "code",
   "execution_count": null,
   "id": "7fce89ef-dfbd-4d0e-a5a9-c217e4363c15",
   "metadata": {},
   "outputs": [],
   "source": [
    "df['log_step_distance'] = np.log10(df['step_distance'])\n",
    "\n",
    "fig = px.histogram(df, \n",
    "                   x=\"log_step_distance\",\n",
    "                   histnorm='probability density',\n",
    "                  \n",
    "                 labels={\n",
    "                     \"return_home_distance\": \"Distance between GPS sample and Home Range Centroid [m]\",\n",
    "                 },\n",
    "                title=\"Normalised Histogram of Distance to HR Centroids\")\n",
    "\n",
    "fig.update_traces(xbins=dict( # bins used for histogram\n",
    "        start=0,\n",
    "        end=8,\n",
    "        size=0.1\n",
    "    ))\n",
    " \n",
    "# fig.update_xaxes(title_text=\"x-axis in logarithmic scale\", type=\"log\")\n",
    "fig.show()"
   ]
  },
  {
   "cell_type": "code",
   "execution_count": null,
   "id": "31e9e365-9b94-4b57-81a7-497cd707a415",
   "metadata": {},
   "outputs": [],
   "source": [
    "df"
   ]
  },
  {
   "cell_type": "markdown",
   "id": "d48303b1-6e0b-46a0-8e7d-9e28d00c373b",
   "metadata": {},
   "source": [
    "## Create models to fit\n",
    "\n",
    "The DLD paper uses various WrappedCauchy distributions and Weibull functions to model step and turn values. The HMM also provides some initial fits for a basic WrappedCauchy and Weibull distribution models, but without any concern for more complex models that take home range into account."
   ]
  },
  {
   "attachments": {
    "0bbe87d7-df9d-43a2-a0ba-56ca9bd2d2c5.png": {
     "image/png": "[encoded data removed]"
    }
   },
   "cell_type": "markdown",
   "id": "cc902ca6-af1b-4408-964f-500148aa86c4",
   "metadata": {},
   "source": [
    "### Simple Model\n",
    "A straight up Cauchy/Weibull model that only takes step distance and turning angle into account\n",
    "\n",
    "![image.png](attachment:0bbe87d7-df9d-43a2-a0ba-56ca9bd2d2c5.png)"
   ]
  },
  {
   "cell_type": "code",
   "execution_count": null,
   "id": "ceb39f40-2e5a-4ae0-a2fa-abbedefb5390",
   "metadata": {},
   "outputs": [],
   "source": [
    "import lmfit \n",
    "from numpy import cos"
   ]
  },
  {
   "cell_type": "code",
   "execution_count": null,
   "id": "eaa969d6-149e-4d83-a29d-0ab386d60c64",
   "metadata": {},
   "outputs": [],
   "source": [
    "def WrappedCauchy(theta, loc, c, scale):\n",
    "    fx = (1/(2*3.1415))*((1- c**2)/(1 + c**2 - 2*c*cos(theta - loc)))/scale\n",
    "    return fx\n"
   ]
  },
  {
   "cell_type": "code",
   "execution_count": null,
   "id": "ab846132-ff2a-444a-ad01-e16fc0bd31d0",
   "metadata": {},
   "outputs": [],
   "source": [
    "y,x = np.histogram(df['turn_angle'].dropna(), \n",
    "                   bins = 100, \n",
    "                   range = [-3.1415,3.1415],\n",
    "                   density = True)\n",
    "\n",
    "#get the center of the bins, not both edges\n",
    "x = (x[:-1] + x[1:]) / 2\n",
    "\n",
    "\n",
    "cauchy_1 = lmfit.Model(WrappedCauchy, prefix='B1_')\n",
    "cauchy_2 = lmfit.Model(WrappedCauchy, prefix='B2_')\n",
    " \n",
    "turn_model = cauchy_1 # + cauchy_2\n",
    "  \n",
    "\n",
    "# create a set of Parameters\n",
    "params = lmfit.Parameters()\n",
    "params.add('B1_loc', value=-3.1, min=-np.pi, max=np.pi)\n",
    "params.add('B1_c', value=0.3, min = 0, max = 1)\n",
    "params.add('B1_scale', value=1)\n",
    "\n",
    "print(f'parameter names: {turn_model.param_names}')\n",
    "print(f'independent variables: {turn_model.independent_vars}')\n",
    "\n",
    "result = turn_model.fit(y, params, theta=x)\n",
    "print(result.fit_report(min_correl=0.5))\n",
    "\n",
    "\n",
    "import plotly.graph_objects as go\n",
    "import numpy as np\n",
    "\n",
    "fig = go.Figure()\n",
    "fig.add_trace(go.Scatter(x=x, y=y,\n",
    "                    mode='lines+markers',\n",
    "                    name='Turn Angles derived from GPS Data'))\n",
    "\n",
    "fig.add_trace(go.Scatter(x=x, y=result.init_fit,\n",
    "                    mode='lines',\n",
    "                    name='Initial Fit'))\n",
    "\n",
    "fig.add_trace(go.Scatter(x=x, \n",
    "                         y=result.best_fit,\n",
    "                         mode='lines', \n",
    "                         name='Combined Model Best Fit'))\n",
    "\n",
    "# Behaviour Mode Models\n",
    "# State 1\n",
    "comps = result.eval_components(x=x)\n",
    "fig.add_trace(go.Scatter(x=x, \n",
    "                         y=comps['B1_'],\n",
    "                         mode='lines', \n",
    "                         line = dict(color='firebrick', width=4, dash='dot'),\n",
    "                         name='Behaviour State 1'))\n",
    "\n",
    "# fig.add_trace(go.Scatter(x=x, \n",
    "#                          y=comps['B2_'],\n",
    "#                          mode='lines', \n",
    "#                          line = dict(color='royalblue', width=4, dash='dot'),\n",
    "#                          name='Behaviour State 2'))\n",
    "fig.update_layout(\n",
    "        title=dict(\n",
    "            text='Turn Angle Probability Density Functions'\n",
    "        ),\n",
    "        xaxis=dict(\n",
    "            title=dict(\n",
    "                text='Turn Angle [radians]'\n",
    "            )\n",
    "        ),\n",
    "        yaxis=dict(\n",
    "            title=dict(\n",
    "                text='Probability'\n",
    "            )\n",
    "        ),\n",
    ")\n",
    "\n",
    "fig.show()"
   ]
  },
  {
   "attachments": {
    "2761fa2d-b5cd-4e84-a2f9-91c4e2e1a4d3.png": {
     "image/png": "[encoded data removed]"
    },
    "4541a5f2-9a49-4429-bb6a-5bddeb09b991.png": {
     "image/png": "[encoded data removed]"
    }
   },
   "cell_type": "markdown",
   "id": "9294f500-f763-45bf-b067-d4188cd276d6",
   "metadata": {},
   "source": [
    "### Step Distance \n",
    "The step distance was modelled with a weibull distribution:\n",
    "\n",
    "![image.png](attachment:4541a5f2-9a49-4429-bb6a-5bddeb09b991.png)\n",
    "\n",
    "or maybe \n",
    "\n",
    "![image.png](attachment:2761fa2d-b5cd-4e84-a2f9-91c4e2e1a4d3.png)\n",
    "\n",
    "\n",
    "Initial values from HMM:\n",
    "\n",
    "Value of the maximum log-likelihood: -94950.3 \n",
    "    \n",
    "    Step length parameters:\n",
    "    ----------------------\n",
    "                   state 1      state 2\n",
    "    shape     8.448135e-01 1.2059822022\n",
    "    scale     8.214790e-02 0.3235091018\n",
    "    zero-mass 2.298274e-05 0.0009006549\n"
   ]
  },
  {
   "cell_type": "code",
   "execution_count": null,
   "id": "ba814de7-9694-4328-91dc-271c950c7eb7",
   "metadata": {},
   "outputs": [],
   "source": [
    "def Weibull(x, c, loc, scale): \n",
    "    fx = (c/scale)*((x-loc)**(c-1))*np.exp(-(x-loc)**c) \n",
    "    return fx\n",
    "\n",
    "def Scaled_Weibull(x, k, alpha, beta): \n",
    "    fx = k*(alpha/beta)*(x**(alpha-1))*np.exp(-(x/beta)**alpha) \n",
    "    return fx\n",
    "\n",
    "def ExpWeibull(x, k, lamb, alpha): \n",
    "    fx = alpha*(k/lamb)*(x/lamb)**(k-1)*(1- np.exp(-(x/lamb)**k))**(alpha-1)*(np.exp(-(x/lamb)**k))\n",
    "    return fx"
   ]
  },
  {
   "cell_type": "code",
   "execution_count": null,
   "id": "42c5cc9a-cc42-45a0-a9a7-40d509dc5d71",
   "metadata": {},
   "outputs": [],
   "source": [
    "# Remember to use the log step distance, fit the histogram, and then unlog it\n",
    "y,x = np.histogram(df['log_step_distance'].dropna(), \n",
    "                   bins = 1000, \n",
    "                   range = [0,3],\n",
    "                   density = True) \n",
    "\n",
    "#get the center of the bins, not both edges\n",
    "x = (x[:-1] + x[1:]) / 2\n",
    "# Unlogged\n",
    "x = 10**x\n",
    "\n",
    "y = y/y.sum()"
   ]
  },
  {
   "cell_type": "code",
   "execution_count": null,
   "id": "ccb7349a-fb77-4bdf-92c6-337dd6c44536",
   "metadata": {},
   "outputs": [],
   "source": [
    "y.sum()"
   ]
  },
  {
   "cell_type": "code",
   "execution_count": null,
   "id": "d1145a53-2325-47d1-9608-adb27dd9643d",
   "metadata": {},
   "outputs": [],
   "source": [
    "# Remember to use the log step distance, fit the histogram, and then unlog it\n",
    "y,x = np.histogram(df['step_distance'].dropna(), \n",
    "                   bins = 500, \n",
    "                   range = [0,500],\n",
    "                   density = True)\n",
    "\n",
    "#get the center of the bins, not both edges\n",
    "x = (x[:-1] + x[1:]) / 2"
   ]
  },
  {
   "cell_type": "code",
   "execution_count": null,
   "id": "e2581f4a-328a-42d1-9165-08cad88ec6ce",
   "metadata": {},
   "outputs": [],
   "source": [
    "## Scaled\n",
    "step_1 = lmfit.Model(Scaled_Weibull, prefix='B1_')\n",
    "step_2 = lmfit.Model(Scaled_Weibull, prefix='B2_')  \n",
    " \n",
    "step_model = step_1 + step_2\n",
    "params = step_model.make_params(B1_k=dict(value=0.8, min=0.001),\n",
    "                               B1_alpha=dict(value=2, min=0.001),\n",
    "                               B1_beta=dict(value=40, min=0.001),\n",
    "                               B2_k=dict(value=0.2, min=0.001),\n",
    "                               B2_alpha=dict(value=1.2, min=0.001),\n",
    "                               B2_beta=dict(value=30, min=0.001),)"
   ]
  },
  {
   "cell_type": "code",
   "execution_count": null,
   "id": "65bd5d0b-17f6-473b-b838-cda04693eb65",
   "metadata": {},
   "outputs": [],
   "source": [
    "## Weibull\n",
    "\n",
    "step_1 = lmfit.Model(Weibull, prefix='B1_')\n",
    "step_2 = lmfit.Model(Weibull, prefix='B2_')  \n",
    " \n",
    "step_model = step_1 + step_2\n",
    "params = step_model.make_params(B1_c=dict(value=0.1, min=0.001),\n",
    "                               B1_loc=dict(value=100, min=0.001),\n",
    "                               B1_scale=dict(value=0.99, min=0.001),\n",
    "                               B2_c=dict(value=0.1, min=0.001),\n",
    "                               B2_loc=dict(value=50, min=0.001),\n",
    "                               B2_scale=dict(value=0.99, min=0.001),)"
   ]
  },
  {
   "cell_type": "code",
   "execution_count": null,
   "id": "524e57bb-11db-4c6c-925f-cd44e2557d31",
   "metadata": {},
   "outputs": [],
   "source": [
    " \n",
    "print(f'parameter names: {step_model.param_names}')\n",
    "print(f'independent variables: {step_model.independent_vars}')\n",
    "\n",
    "result = step_model.fit(y, params, x=x)\n",
    "print(result.fit_report(min_correl=0.5))\n",
    "\n",
    "fig = go.Figure()\n",
    "fig.add_trace(go.Scatter(x=x, y=y,\n",
    "                    mode='lines+markers',\n",
    "                    name='Step Distances derived from GPS Data'))\n",
    "\n",
    "# fig.add_trace(go.Scatter(x=x, y=result.init_fit,\n",
    "#                     mode='lines',\n",
    "#                     name='Initial Fit'))\n",
    "\n",
    "fig.add_trace(go.Scatter(x=x, \n",
    "                         y=result.best_fit,\n",
    "                         mode='lines', \n",
    "                         name='Combined Model Best Fit'))\n",
    "\n",
    "# Behaviour Mode Models\n",
    "# State 1\n",
    "\n",
    "comps = result.eval_components(x=x)\n",
    "fig.add_trace(go.Scatter(x=x, \n",
    "                         y=comps['B1_'],\n",
    "                         mode='lines', \n",
    "                         line = dict(color='firebrick', width=4, dash='dot'),\n",
    "                         name='Behaviour State 1'))\n",
    "\n",
    "fig.add_trace(go.Scatter(x=x, \n",
    "                         y=comps['B2_'],\n",
    "                         mode='lines', \n",
    "                         line = dict(color='royalblue', width=4, dash='dot'),\n",
    "                         name='Behaviour State 2'))\n",
    "fig.update_layout(\n",
    "        title=dict(\n",
    "            text='Step Distance Probability Density Functions'\n",
    "        ),\n",
    "        xaxis=dict(\n",
    "            title=dict(\n",
    "                text='Steps [meters]'\n",
    "            )\n",
    "        ),\n",
    "        yaxis=dict(\n",
    "            title=dict(\n",
    "                text='Probability'\n",
    "            )\n",
    "        ),\n",
    ")\n",
    "\n",
    "fig.show()"
   ]
  },
  {
   "cell_type": "markdown",
   "id": "6c15b5c2-3dc2-41db-b2be-98d8e986330e",
   "metadata": {},
   "source": [
    "\n",
    "Step length parameters:\n",
    "----------------------\n",
    "    [[Variables]]\n",
    "        B1_k:      0.17386226 +/- 0.00795961 (4.58%) (init = 0.15)\n",
    "        B1_lamb:   0.12711357 +/- 0.07302210 (57.45%) (init = 0.1)\n",
    "        B1_alpha:  41.4173511 +/- 6.39108805 (15.43%) (init = 30)\n",
    "        B2_k:      0.00100847 +/- 4841.02071 (480034853.41%) (init = 1)\n",
    "        B2_lamb:   153.678229 +/- 7.7573e+10 (50477687873.60%) (init = 200)\n",
    "        B2_alpha:  37.5054615 +/- 28733374.1 (76611173.48%) (init = 5)\n",
    "\n",
    "        Step length parameters:\n",
    "        ----------------------\n",
    "                   state 1      state 2\n",
    "        shape     8.448135e-01 1.2059822022\n",
    "        scale     8.214790e-02 0.3235091018\n",
    "        zero-mass 2.298274e-05 0.0009006549"
   ]
  },
  {
   "cell_type": "code",
   "execution_count": null,
   "id": "fa2eeac1-f095-4c78-8b86-3b73f7a3c4ac",
   "metadata": {},
   "outputs": [],
   "source": [
    "# Scaled_Weibull(x, k, alpha, beta):\n",
    "\n",
    "y1 = Weibull(x,  \n",
    "             alpha = 1, \n",
    "             beta = 800)\n",
    "\n",
    "y2 = Weibull(x,\n",
    "             alpha = 2, \n",
    "             beta = 100)\n",
    "y_total = y1 + y2 \n",
    "fig = go.Figure()\n",
    "fig.add_trace(go.Scatter(x=x, y=y,\n",
    "                    mode='lines+markers',\n",
    "                    name='Step Distances derived from GPS Data'))\n",
    "fig.add_trace(go.Scatter(x=x, y=y1,\n",
    "                    mode='lines',\n",
    "                    name='First'))\n",
    "fig.add_trace(go.Scatter(x=x, y= y2,\n",
    "                         mode='lines',\n",
    "                         name='Second'))\n",
    "fig.add_trace(go.Scatter(x=x, y=y_total,\n",
    "                         mode='lines',\n",
    "                         name='Combo'))\n",
    "fig.show()"
   ]
  },
  {
   "cell_type": "code",
   "execution_count": null,
   "id": "7bde40ae-4cb4-443b-bd83-7ae0f43a4f57",
   "metadata": {},
   "outputs": [],
   "source": []
  }
 ],
 "metadata": {
  "kernelspec": {
   "display_name": "Python 3 (ipykernel)",
   "language": "python",
   "name": "python3"
  },
  "language_info": {
   "codemirror_mode": {
    "name": "ipython",
    "version": 3
   },
   "file_extension": ".py",
   "mimetype": "text/x-python",
   "name": "python",
   "nbconvert_exporter": "python",
   "pygments_lexer": "ipython3",
   "version": "3.11.9"
  }
 },
 "nbformat": 4,
 "nbformat_minor": 5
}
